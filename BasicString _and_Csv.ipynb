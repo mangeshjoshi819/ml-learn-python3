{
 "cells": [
  {
   "cell_type": "markdown",
   "metadata": {},
   "source": [
    "# Basic Python Strings"
   ]
  },
  {
   "cell_type": "markdown",
   "metadata": {},
   "source": [
    "Python3 has representation of String using unicode.Unicode is by default in python.\n",
    "\n",
    "Python has dynamic typing e.g. print(3+\"mangesh\") will not work need to convert 3 to str(3)\n"
   ]
  },
  {
   "cell_type": "code",
   "execution_count": 1,
   "metadata": {
    "collapsed": false
   },
   "outputs": [
    {
     "ename": "TypeError",
     "evalue": "unsupported operand type(s) for +: 'int' and 'str'",
     "output_type": "error",
     "traceback": [
      "\u001b[0;31m---------------------------------------------------------------------------\u001b[0m",
      "\u001b[0;31mTypeError\u001b[0m                                 Traceback (most recent call last)",
      "\u001b[0;32m<ipython-input-1-f83eb4d6f450>\u001b[0m in \u001b[0;36m<module>\u001b[0;34m()\u001b[0m\n\u001b[0;32m----> 1\u001b[0;31m \u001b[0mprint\u001b[0m\u001b[0;34m(\u001b[0m\u001b[0;36m3\u001b[0m\u001b[0;34m+\u001b[0m\u001b[0;34m\"mangesh\"\u001b[0m\u001b[0;34m)\u001b[0m\u001b[0;34m\u001b[0m\u001b[0m\n\u001b[0m",
      "\u001b[0;31mTypeError\u001b[0m: unsupported operand type(s) for +: 'int' and 'str'"
     ]
    }
   ],
   "source": [
    "print(3+\"mangesh\")"
   ]
  },
  {
   "cell_type": "code",
   "execution_count": 2,
   "metadata": {
    "collapsed": false
   },
   "outputs": [
    {
     "name": "stdout",
     "output_type": "stream",
     "text": [
      "3mangesh\n"
     ]
    }
   ],
   "source": [
    "print(str(3)+\"mangesh\")\n"
   ]
  },
  {
   "cell_type": "code",
   "execution_count": 3,
   "metadata": {
    "collapsed": true
   },
   "outputs": [],
   "source": [
    "record={\"name\":\"mangeesh\",\"price\":34,\"country\":\"Brazil\"}"
   ]
  },
  {
   "cell_type": "markdown",
   "metadata": {},
   "source": [
    "<br>\n",
    "Using format"
   ]
  },
  {
   "cell_type": "code",
   "execution_count": 4,
   "metadata": {
    "collapsed": true
   },
   "outputs": [],
   "source": [
    "print_statement=\"{} is my name,{} is the price,{} is the country\""
   ]
  },
  {
   "cell_type": "code",
   "execution_count": 5,
   "metadata": {
    "collapsed": false
   },
   "outputs": [
    {
     "data": {
      "text/plain": [
       "'mangeesh is my name,34 is the price,Brazil is the country'"
      ]
     },
     "execution_count": 5,
     "metadata": {},
     "output_type": "execute_result"
    }
   ],
   "source": [
    "print_statement.format(record[\"name\"],record[\"price\"],record[\"country\"])\n"
   ]
  },
  {
   "cell_type": "markdown",
   "metadata": {},
   "source": [
    "**CSV_Reading**"
   ]
  },
  {
   "cell_type": "code",
   "execution_count": 21,
   "metadata": {
    "collapsed": false
   },
   "outputs": [
    {
     "name": "stdout",
     "output_type": "stream",
     "text": [
      "398\n",
      "dict_keys(['origin', 'displacement', 'mpg', 'cylinders', 'acceleration', 'name', 'horsepower', 'weight', 'model_year'])\n",
      "{'origin': '1', 'displacement': '307', 'mpg': '18', 'cylinders': '8', 'acceleration': '12', 'name': 'chevrolet chevelle malibu', 'horsepower': '130', 'weight': '3504', 'model_year': '70'}\n"
     ]
    }
   ],
   "source": [
    "import csv\n",
    "\n",
    "#precision 2\n",
    "\n",
    "with open(\"mpg.csv\") as csvfile:\n",
    "        mpg=list(csv.DictReader(csvfile))\n",
    "        print(len(mpg))\n",
    "        print(mpg[0].keys())\n",
    "        print(mpg[0])"
   ]
  },
  {
   "cell_type": "code",
   "execution_count": 26,
   "metadata": {
    "collapsed": false
   },
   "outputs": [
    {
     "data": {
      "text/plain": [
       "193.42587939698493"
      ]
     },
     "execution_count": 26,
     "metadata": {},
     "output_type": "execute_result"
    }
   ],
   "source": [
    "sum([float(k[\"displacement\"]) for k in mpg] )/len(mpg)"
   ]
  },
  {
   "cell_type": "markdown",
   "metadata": {},
   "source": [
    "**Sum over cylinders**"
   ]
  },
  {
   "cell_type": "code",
   "execution_count": 32,
   "metadata": {
    "collapsed": false
   },
   "outputs": [
    {
     "data": {
      "text/plain": [
       "{'3', '4', '5', '6', '8'}"
      ]
     },
     "execution_count": 32,
     "metadata": {},
     "output_type": "execute_result"
    }
   ],
   "source": [
    "cylinders=set([k[\"cylinders\"] for k in mpg])\n"
   ]
  },
  {
   "cell_type": "code",
   "execution_count": 37,
   "metadata": {
    "collapsed": false
   },
   "outputs": [
    {
     "data": {
      "text/plain": [
       "{'3': 20.55,\n",
       " '4': 29.28676470588236,\n",
       " '5': 27.366666666666664,\n",
       " '6': 19.985714285714284,\n",
       " '8': 14.963106796116508}"
      ]
     },
     "execution_count": 37,
     "metadata": {},
     "output_type": "execute_result"
    }
   ],
   "source": [
    "avgMpgPerCylinderDict={}\n",
    "\n",
    "for c in cylinders:    \n",
    "    value=0\n",
    "    number=0\n",
    "    for k in mpg:\n",
    "        if k[\"cylinders\"]==c:\n",
    "            value+=float(k[\"mpg\"])\n",
    "            number+=1\n",
    "    avgCylinderDict[c]=value/number        \n",
    "\n",
    "avgCylinderDict    "
   ]
  },
  {
   "cell_type": "code",
   "execution_count": 41,
   "metadata": {
    "collapsed": false
   },
   "outputs": [
    {
     "data": {
      "text/plain": [
       "{'70', '71', '72', '73', '74', '75', '76', '77', '78', '79', '80', '81', '82'}"
      ]
     },
     "execution_count": 41,
     "metadata": {},
     "output_type": "execute_result"
    }
   ],
   "source": [
    "modelyear=set([d[\"model_year\"] for d in mpg])\n",
    "modelyear"
   ]
  },
  {
   "cell_type": "code",
   "execution_count": 53,
   "metadata": {
    "collapsed": false
   },
   "outputs": [
    {
     "data": {
      "text/plain": [
       "[('73', 17.1),\n",
       " ('70', 17.689655172413794),\n",
       " ('72', 18.714285714285715),\n",
       " ('75', 20.266666666666666),\n",
       " ('71', 21.25),\n",
       " ('76', 21.573529411764707),\n",
       " ('74', 22.703703703703702),\n",
       " ('77', 23.375),\n",
       " ('78', 24.061111111111114),\n",
       " ('79', 25.09310344827585),\n",
       " ('81', 30.33448275862069),\n",
       " ('82', 31.70967741935484),\n",
       " ('80', 33.696551724137926)]"
      ]
     },
     "execution_count": 53,
     "metadata": {},
     "output_type": "execute_result"
    }
   ],
   "source": [
    "avgMPGperModelYear=[]\n",
    "\n",
    "for y in modelyear:\n",
    "    value=0\n",
    "    number=0\n",
    "    for k in mpg:\n",
    "        if k[\"model_year\"]==y:\n",
    "            value+=float(k[\"mpg\"])\n",
    "            number+=1\n",
    "    avgMPGperModelYear.append((y,value/number))\n",
    "avgMPGperModelYear.sort(key=lambda x:x[1])\n",
    "avgMPGperModelYear\n"
   ]
  }
 ],
 "metadata": {
  "anaconda-cloud": {},
  "kernelspec": {
   "display_name": "Python [default]",
   "language": "python",
   "name": "python3"
  },
  "language_info": {
   "codemirror_mode": {
    "name": "ipython",
    "version": 3
   },
   "file_extension": ".py",
   "mimetype": "text/x-python",
   "name": "python",
   "nbconvert_exporter": "python",
   "pygments_lexer": "ipython3",
   "version": "3.5.2"
  }
 },
 "nbformat": 4,
 "nbformat_minor": 1
}
